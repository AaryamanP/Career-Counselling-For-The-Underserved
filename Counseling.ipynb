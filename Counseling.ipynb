{
 "cells": [
  {
   "cell_type": "code",
   "execution_count": null,
   "id": "75b149ec-a08e-4dbf-8c06-0010af29ae26",
   "metadata": {},
   "outputs": [
    {
     "name": "stdout",
     "output_type": "stream",
     "text": [
      "Collecting openai\n",
      "  Downloading openai-1.72.0-py3-none-any.whl.metadata (25 kB)\n",
      "Requirement already satisfied: ipywidgets in c:\\users\\aarya\\anaconda3\\lib\\site-packages (7.8.1)\n",
      "Collecting ipywidgets\n",
      "  Downloading ipywidgets-8.1.6-py3-none-any.whl.metadata (2.4 kB)\n",
      "Requirement already satisfied: anyio<5,>=3.5.0 in c:\\users\\aarya\\anaconda3\\lib\\site-packages (from openai) (4.2.0)\n",
      "Requirement already satisfied: distro<2,>=1.7.0 in c:\\users\\aarya\\anaconda3\\lib\\site-packages (from openai) (1.9.0)\n",
      "Requirement already satisfied: httpx<1,>=0.23.0 in c:\\users\\aarya\\anaconda3\\lib\\site-packages (from openai) (0.27.0)\n",
      "Collecting jiter<1,>=0.4.0 (from openai)\n",
      "  Downloading jiter-0.9.0-cp312-cp312-win_amd64.whl.metadata (5.3 kB)\n",
      "Requirement already satisfied: pydantic<3,>=1.9.0 in c:\\users\\aarya\\anaconda3\\lib\\site-packages (from openai) (2.8.2)\n",
      "Requirement already satisfied: sniffio in c:\\users\\aarya\\anaconda3\\lib\\site-packages (from openai) (1.3.0)\n",
      "Requirement already satisfied: tqdm>4 in c:\\users\\aarya\\anaconda3\\lib\\site-packages (from openai) (4.66.5)\n",
      "Requirement already satisfied: typing-extensions<5,>=4.11 in c:\\users\\aarya\\anaconda3\\lib\\site-packages (from openai) (4.11.0)\n",
      "Requirement already satisfied: comm>=0.1.3 in c:\\users\\aarya\\anaconda3\\lib\\site-packages (from ipywidgets) (0.2.1)\n",
      "Requirement already satisfied: ipython>=6.1.0 in c:\\users\\aarya\\anaconda3\\lib\\site-packages (from ipywidgets) (8.27.0)\n",
      "Requirement already satisfied: traitlets>=4.3.1 in c:\\users\\aarya\\anaconda3\\lib\\site-packages (from ipywidgets) (5.14.3)\n",
      "Collecting widgetsnbextension~=4.0.14 (from ipywidgets)\n",
      "  Downloading widgetsnbextension-4.0.14-py3-none-any.whl.metadata (1.6 kB)\n",
      "Collecting jupyterlab_widgets~=3.0.14 (from ipywidgets)\n",
      "  Downloading jupyterlab_widgets-3.0.14-py3-none-any.whl.metadata (4.1 kB)\n",
      "Requirement already satisfied: idna>=2.8 in c:\\users\\aarya\\anaconda3\\lib\\site-packages (from anyio<5,>=3.5.0->openai) (3.7)\n",
      "Requirement already satisfied: certifi in c:\\users\\aarya\\anaconda3\\lib\\site-packages (from httpx<1,>=0.23.0->openai) (2025.1.31)\n",
      "Requirement already satisfied: httpcore==1.* in c:\\users\\aarya\\anaconda3\\lib\\site-packages (from httpx<1,>=0.23.0->openai) (1.0.2)\n",
      "Requirement already satisfied: h11<0.15,>=0.13 in c:\\users\\aarya\\anaconda3\\lib\\site-packages (from httpcore==1.*->httpx<1,>=0.23.0->openai) (0.14.0)\n",
      "Requirement already satisfied: decorator in c:\\users\\aarya\\anaconda3\\lib\\site-packages (from ipython>=6.1.0->ipywidgets) (5.1.1)\n",
      "Requirement already satisfied: jedi>=0.16 in c:\\users\\aarya\\anaconda3\\lib\\site-packages (from ipython>=6.1.0->ipywidgets) (0.19.1)\n",
      "Requirement already satisfied: matplotlib-inline in c:\\users\\aarya\\anaconda3\\lib\\site-packages (from ipython>=6.1.0->ipywidgets) (0.1.6)\n",
      "Requirement already satisfied: prompt-toolkit<3.1.0,>=3.0.41 in c:\\users\\aarya\\anaconda3\\lib\\site-packages (from ipython>=6.1.0->ipywidgets) (3.0.43)\n",
      "Requirement already satisfied: pygments>=2.4.0 in c:\\users\\aarya\\anaconda3\\lib\\site-packages (from ipython>=6.1.0->ipywidgets) (2.15.1)\n",
      "Requirement already satisfied: stack-data in c:\\users\\aarya\\anaconda3\\lib\\site-packages (from ipython>=6.1.0->ipywidgets) (0.2.0)\n",
      "Requirement already satisfied: colorama in c:\\users\\aarya\\anaconda3\\lib\\site-packages (from ipython>=6.1.0->ipywidgets) (0.4.6)\n",
      "Requirement already satisfied: annotated-types>=0.4.0 in c:\\users\\aarya\\anaconda3\\lib\\site-packages (from pydantic<3,>=1.9.0->openai) (0.6.0)\n",
      "Requirement already satisfied: pydantic-core==2.20.1 in c:\\users\\aarya\\anaconda3\\lib\\site-packages (from pydantic<3,>=1.9.0->openai) (2.20.1)\n",
      "Requirement already satisfied: parso<0.9.0,>=0.8.3 in c:\\users\\aarya\\anaconda3\\lib\\site-packages (from jedi>=0.16->ipython>=6.1.0->ipywidgets) (0.8.3)\n",
      "Requirement already satisfied: wcwidth in c:\\users\\aarya\\anaconda3\\lib\\site-packages (from prompt-toolkit<3.1.0,>=3.0.41->ipython>=6.1.0->ipywidgets) (0.2.5)\n",
      "Requirement already satisfied: executing in c:\\users\\aarya\\anaconda3\\lib\\site-packages (from stack-data->ipython>=6.1.0->ipywidgets) (0.8.3)\n",
      "Requirement already satisfied: asttokens in c:\\users\\aarya\\anaconda3\\lib\\site-packages (from stack-data->ipython>=6.1.0->ipywidgets) (2.0.5)\n",
      "Requirement already satisfied: pure-eval in c:\\users\\aarya\\anaconda3\\lib\\site-packages (from stack-data->ipython>=6.1.0->ipywidgets) (0.2.2)\n",
      "Requirement already satisfied: six in c:\\users\\aarya\\anaconda3\\lib\\site-packages (from asttokens->stack-data->ipython>=6.1.0->ipywidgets) (1.16.0)\n",
      "Downloading openai-1.72.0-py3-none-any.whl (643 kB)\n",
      "   ---------------------------------------- 0.0/643.9 kB ? eta -:--:--\n",
      "   ---------------- ----------------------- 262.1/643.9 kB ? eta -:--:--\n",
      "   ---------------------------------------- 643.9/643.9 kB 1.7 MB/s eta 0:00:00\n",
      "Downloading ipywidgets-8.1.6-py3-none-any.whl (139 kB)\n",
      "Downloading jiter-0.9.0-cp312-cp312-win_amd64.whl (207 kB)\n",
      "Downloading jupyterlab_widgets-3.0.14-py3-none-any.whl (213 kB)\n",
      "Downloading widgetsnbextension-4.0.14-py3-none-any.whl (2.2 MB)\n",
      "   ---------------------------------------- 0.0/2.2 MB ? eta -:--:--\n",
      "   ----------------------- ---------------- 1.3/2.2 MB 5.6 MB/s eta 0:00:01\n",
      "   ---------------------------------------- 2.2/2.2 MB 5.9 MB/s eta 0:00:00\n",
      "Installing collected packages: widgetsnbextension, jupyterlab_widgets, jiter, openai, ipywidgets\n",
      "  Attempting uninstall: widgetsnbextension\n",
      "    Found existing installation: widgetsnbextension 3.6.6\n",
      "    Uninstalling widgetsnbextension-3.6.6:\n",
      "      Successfully uninstalled widgetsnbextension-3.6.6\n",
      "  Attempting uninstall: jupyterlab_widgets\n",
      "    Found existing installation: jupyterlab-widgets 1.0.0\n",
      "    Uninstalling jupyterlab-widgets-1.0.0:\n",
      "      Successfully uninstalled jupyterlab-widgets-1.0.0\n",
      "  Attempting uninstall: ipywidgets\n",
      "    Found existing installation: ipywidgets 7.8.1\n",
      "    Uninstalling ipywidgets-7.8.1:\n",
      "      Successfully uninstalled ipywidgets-7.8.1\n",
      "Successfully installed ipywidgets-8.1.6 jiter-0.9.0 jupyterlab_widgets-3.0.14 openai-1.72.0 widgetsnbextension-4.0.14\n"
     ]
    },
    {
     "data": {
      "application/vnd.jupyter.widget-view+json": {
       "model_id": "ce414ac3ba5f449dacfc2d1a5feb9464",
       "version_major": 2,
       "version_minor": 0
      },
      "text/plain": [
       "SelectMultiple(description='Conditions:', options=('Dyslexia', 'Autism Spectrum', 'ADHD', 'Physical disability…"
      ]
     },
     "metadata": {},
     "output_type": "display_data"
    },
    {
     "data": {
      "application/vnd.jupyter.widget-view+json": {
       "model_id": "6387255eca134e6190cc06f6306d706a",
       "version_major": 2,
       "version_minor": 0
      },
      "text/plain": [
       "SelectMultiple(description='Enjoy Activities:', options=('Working with hands', 'Creative arts', 'Helping/carin…"
      ]
     },
     "metadata": {},
     "output_type": "display_data"
    },
    {
     "data": {
      "application/vnd.jupyter.widget-view+json": {
       "model_id": "14b50a7312984cf1ba787f8fee9b5318",
       "version_major": 2,
       "version_minor": 0
      },
      "text/plain": [
       "RadioButtons(description='Work Style:', options=('Alone, at my own pace', 'In a small, quiet group', 'In a tea…"
      ]
     },
     "metadata": {},
     "output_type": "display_data"
    },
    {
     "data": {
      "application/vnd.jupyter.widget-view+json": {
       "model_id": "a5bacc18a7944b5ebdbf9122d932e0f7",
       "version_major": 2,
       "version_minor": 0
      },
      "text/plain": [
       "RadioButtons(description='Best Environment:', options=('Quiet, structured', 'Active, hands-on', 'Outdoors/natu…"
      ]
     },
     "metadata": {},
     "output_type": "display_data"
    },
    {
     "data": {
      "application/vnd.jupyter.widget-view+json": {
       "model_id": "e4a0f2ab2152496c91f8ede89e4f2916",
       "version_major": 2,
       "version_minor": 0
      },
      "text/plain": [
       "RadioButtons(description='Routine or Variety:', options=('Strong routine', 'Mix of routine and new tasks', 'Al…"
      ]
     },
     "metadata": {},
     "output_type": "display_data"
    },
    {
     "data": {
      "application/vnd.jupyter.widget-view+json": {
       "model_id": "4395b6c79a9a442898d3dd9d0b4a038a",
       "version_major": 2,
       "version_minor": 0
      },
      "text/plain": [
       "SelectMultiple(description='Top Skills:', options=('Attention to detail', 'Creativity/artistic skills', 'Probl…"
      ]
     },
     "metadata": {},
     "output_type": "display_data"
    },
    {
     "data": {
      "application/vnd.jupyter.widget-view+json": {
       "model_id": "d9c1a716ee9446fda02f5e5a3c2350aa",
       "version_major": 2,
       "version_minor": 0
      },
      "text/plain": [
       "RadioButtons(description='Learn Best:', options=('Visually', 'By doing', 'Listening', 'Written instructions'),…"
      ]
     },
     "metadata": {},
     "output_type": "display_data"
    },
    {
     "data": {
      "application/vnd.jupyter.widget-view+json": {
       "model_id": "8f67e529f19248509f3aeaf73141a738",
       "version_major": 2,
       "version_minor": 0
      },
      "text/plain": [
       "SelectMultiple(description='Challenges:', options=('Reading/writing tasks', 'Social interactions', 'Focusing f…"
      ]
     },
     "metadata": {},
     "output_type": "display_data"
    },
    {
     "data": {
      "application/vnd.jupyter.widget-view+json": {
       "model_id": "a6d606dbcebd46ceb39af58d658d5654",
       "version_major": 2,
       "version_minor": 0
      },
      "text/plain": [
       "SelectMultiple(description='Job Priorities:', options=('Flexibility in hours', 'Clear instructions', 'Helping …"
      ]
     },
     "metadata": {},
     "output_type": "display_data"
    },
    {
     "data": {
      "application/vnd.jupyter.widget-view+json": {
       "model_id": "6f7c059235d9479f8a9c7f8f6835b7cd",
       "version_major": 2,
       "version_minor": 0
      },
      "text/plain": [
       "Text(value='', description='Curious About:', placeholder='Type here...', style=DescriptionStyle(description_wi…"
      ]
     },
     "metadata": {},
     "output_type": "display_data"
    },
    {
     "data": {
      "application/vnd.jupyter.widget-view+json": {
       "model_id": "ee536c5fa97d4da198c507778254c038",
       "version_major": 2,
       "version_minor": 0
      },
      "text/plain": [
       "Button(button_style='success', description='Submit and Get Suggestions', style=ButtonStyle())"
      ]
     },
     "metadata": {},
     "output_type": "display_data"
    }
   ],
   "source": [
    "# 🚀 Install required packages\n",
    "!pip install --upgrade openai ipywidgets python-dotenv\n",
    "\n",
    "# 🔧 Imports\n",
    "from openai import OpenAI\n",
    "import ipywidgets as widgets\n",
    "from IPython.display import display, clear_output\n",
    "from dotenv import load_dotenv\n",
    "import os\n",
    "\n",
    "# Load local .env if present\n",
    "load_dotenv()\n",
    "\n",
    "# 🗝️ Groq API Setup (read key from environment, do NOT hard-code)\n",
    "api_key = os.environ.get(\"OPENAI_API_KEY\")\n",
    "if not api_key:\n",
    "    raise RuntimeError(\"OPENAI_API_KEY not set in environment; set it before running the notebook\")\n",
    "client = OpenAI(\n",
    "    base_url=\"https://api.groq.com/openai/v1\",\n",
    "    api_key=api_key\n",
    ")\n",
    "\n",
    "# 📋 Form widgets\n",
    "conditions = widgets.SelectMultiple(\n",
    "    options=[\"Dyslexia\", \"Autism Spectrum\", \"ADHD\", \"Physical disability\", \"Other\"],\n",
    "    description='Conditions:',\n",
    "    style={'description_width': 'initial'}\n",
    ")\n",
    "\n",
    "activities = widgets.SelectMultiple(\n",
    "    options=[\"Working with hands\", \"Creative arts\", \"Helping/caring for people/animals\",\n",
    "             \"Solving puzzles/math/logic problems\", \"Organizing or managing things\",\n",
    "             \"Technology\", \"Outdoor/Nature-related activities\"],\n",
    "    description='Enjoy Activities:',\n",
    "    style={'description_width': 'initial'}\n",
    ")\n",
    "\n",
    "work_style = widgets.RadioButtons(\n",
    "    options=[\"Alone, at my own pace\", \"In a small, quiet group\", \n",
    "             \"In a team with clear roles\", \"Flexible (mix of solo & group)\"],\n",
    "    description='Work Style:',\n",
    "    style={'description_width': 'initial'}\n",
    ")\n",
    "\n",
    "environment = widgets.RadioButtons(\n",
    "    options=[\"Quiet, structured\", \"Active, hands-on\", \"Outdoors/nature\", \"Creative/artistic space\"],\n",
    "    description='Best Environment:',\n",
    "    style={'description_width': 'initial'}\n",
    ")\n",
    "\n",
    "routine_preference = widgets.RadioButtons(\n",
    "    options=[\"Strong routine\", \"Mix of routine and new tasks\", \"Always new challenges\"],\n",
    "    description='Routine or Variety:',\n",
    "    style={'description_width': 'initial'}\n",
    ")\n",
    "\n",
    "strengths = widgets.SelectMultiple(\n",
    "    options=[\"Attention to detail\", \"Creativity/artistic skills\", \"Problem-solving\",\n",
    "             \"Physical coordination\", \"Memorizing facts/details\", \n",
    "             \"Communicating\", \"Technology\"],\n",
    "    description='Top Skills:',\n",
    "    style={'description_width': 'initial'}\n",
    ")\n",
    "\n",
    "learning_style = widgets.RadioButtons(\n",
    "    options=[\"Visually\", \"By doing\", \"Listening\", \"Written instructions\"],\n",
    "    description='Learn Best:',\n",
    "    style={'description_width': 'initial'}\n",
    ")\n",
    "\n",
    "challenges = widgets.SelectMultiple(\n",
    "    options=[\"Reading/writing tasks\", \"Social interactions\", \"Focusing for long periods\",\n",
    "             \"Physical tasks\", \"Unstructured tasks\"],\n",
    "    description='Challenges:',\n",
    "    style={'description_width': 'initial'}\n",
    ")\n",
    "\n",
    "job_values = widgets.SelectMultiple(\n",
    "    options=[\"Flexibility in hours\", \"Clear instructions\", \"Helping others\",\n",
    "             \"Creativity/freedom\", \"Stable income\"],\n",
    "    description='Job Priorities:',\n",
    "    style={'description_width': 'initial'}\n",
    ")\n",
    "\n",
    "career_interest = widgets.Text(\n",
    "    value='',\n",
    "    placeholder='Type here...',\n",
    "    description='Curious About:',\n",
    "    style={'description_width': 'initial'}\n",
    ")\n",
    "\n",
    "submit_btn = widgets.Button(description=\"Submit and Get Suggestions\", button_style='success')\n",
    "\n",
    "# 🧠 LLaMA 3 career suggestion function\n",
    "def on_submit_clicked(b):\n",
    "    clear_output()\n",
    "    display(widgets.Label(\"Analyzing your responses with AI...\"))\n",
    "\n",
    "    user_data = f\"\"\"\n",
    "    Conditions: {', '.join(conditions.value)}\n",
    "    Activities enjoyed: {', '.join(activities.value)}\n",
    "    Work preference: {work_style.value}\n",
    "    Best environment: {environment.value}\n",
    "    Routine preference: {routine_preference.value}\n",
    "    Strengths: {', '.join(strengths.value)}\n",
    "    Learning style: {learning_style.value}\n",
    "    Challenges: {', '.join(challenges.value)}\n",
    "    Job values: {', '.join(job_values.value)}\n",
    "    Career interests: {career_interest.value}\n",
    "    \"\"\"\n",
    "\n",
    "    prompt = f\"\"\"\n",
    "    You are a career counselor. Based on the following user's answers, suggest 2-3 career paths or job roles that align with their strengths, preferences, and challenges.\n",
    "    The user is a person with special needs and deserves thoughtful, inclusive guidance.\n",
    "\n",
    "    {user_data}\n",
    "    \"\"\"\n",
    "\n",
    "    try:\n",
    "        response = client.chat.completions.create(\n",
    "            model=\"llama3-70b-8192\",\n",
    "            messages=[{\"role\": \"user\", \"content\": prompt}],\n",
    "            temperature=0.6,\n",
    "            max_tokens=500\n",
    "        )\n",
    "        result = response.choices[0].message.content\n",
    "        clear_output()\n",
    "        print(\"🎯 Career Recommendations:\\n\")\n",
    "        print(result)\n",
    "    except Exception as e:\n",
    "        clear_output()\n",
    "        print(\"❌ Error:\", e)\n",
    "\n",
    "# 🔘 Button trigger\n",
    "submit_btn.on_click(on_submit_clicked)\n",
    "\n",
    "# 🖥️ Display full form\n",
    "display(conditions, activities, work_style, environment,\n",
    "        routine_preference, strengths, learning_style,\n",
    "        challenges, job_values, career_interest, submit_btn)\n"
   ]
  },
  {
   "cell_type": "code",
   "execution_count": null,
   "id": "a406baa5-596d-4963-be51-7e5a35348060",
   "metadata": {},
   "outputs": [],
   "source": []
  }
 ],
 "metadata": {
  "kernelspec": {
   "display_name": "Python 3 (ipykernel)",
   "language": "python",
   "name": "python3"
  },
  "language_info": {
   "codemirror_mode": {
    "name": "ipython",
    "version": 3
   },
   "file_extension": ".py",
   "mimetype": "text/x-python",
   "name": "python",
   "nbconvert_exporter": "python",
   "pygments_lexer": "ipython3",
   "version": "3.12.7"
  }
 },
 "nbformat": 4,
 "nbformat_minor": 5
}
